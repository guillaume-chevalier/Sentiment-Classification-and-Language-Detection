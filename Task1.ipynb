{
 "cells": [
  {
   "cell_type": "markdown",
   "metadata": {},
   "source": [
    "# Sentiment analysis and language identification\n",
    "\n",
    "This is a project for the Natural Language Processing (NLP) class \"IFT-7022 Techniques et applications du traitement automatique de la langue (TALN)\" of [Luc Lamontagne](http://www2.ift.ulaval.ca/~lamontagne/). \n",
    "\n",
    "## Tasks\n",
    "\n",
    "There are two tasks to do in this homework: \n",
    "\n",
    "- Task 1: classify positive and negative emotion in a document.\n",
    "- Task 2: predict language in a document.\n",
    "\n",
    "\n",
    "## License\n",
    "\n",
    "The current code is released under the **BSD-3-Clause license**. See `LICENSE.md`. Copyright 2018 Guillaume Chevalier.\n",
    "\n",
    "Note: as this is a university school project, the licences of the imported librairies, datasets, or other assets has not been checked.\n",
    "\n",
    "## Using the provided data\n",
    "\n",
    "Here is the structure of the folders for this code to run:\n",
    "\n",
    "(Note: all text files have been ignored with grep so as to make the tree shorter, and the tree was captured before creating the src* folder. The data could be downloaded from the course website.)"
   ]
  },
  {
   "cell_type": "code",
   "execution_count": 1,
   "metadata": {},
   "outputs": [
    {
     "name": "stdout",
     "output_type": "stream",
     "text": [
      "data\n",
      "├── task1\n",
      "│   └── Book\n",
      "│       ├── neg_Bk\n",
      "│       └── pos_Bk\n",
      "└── task2\n",
      "    └── identification_langue\n",
      "        ├── corpus_entrainement\n",
      "        └── corpus_test1\n",
      "\n",
      "8 directories, 2044 files\n",
      "/home/users_home/Documents/Session 7/NLP/TP2\n"
     ]
    }
   ],
   "source": [
    "!tree data | grep -v txt | grep -v text\n",
    "!pwd"
   ]
  },
  {
   "cell_type": "markdown",
   "metadata": {},
   "source": [
    "Also see the `requirements.txt` file: "
   ]
  },
  {
   "cell_type": "code",
   "execution_count": 6,
   "metadata": {},
   "outputs": [
    {
     "name": "stdout",
     "output_type": "stream",
     "text": [
      "# Python 3.6\r\n",
      "conv\r\n",
      "numpy\r\n",
      "scikit-learn\r\n",
      "nltk\r\n",
      "# nltk.download('stopwords')\r\n",
      "# nltk.download('tagsets')\r\n",
      "# nltk.download('sentiwordnet')\r\n",
      "matplotlib\r\n",
      "\r\n"
     ]
    }
   ],
   "source": [
    "!cat requirements.txt"
   ]
  },
  {
   "cell_type": "markdown",
   "metadata": {},
   "source": [
    "# Task 1: classify positive and negative emotion in a document."
   ]
  },
  {
   "cell_type": "code",
   "execution_count": 1,
   "metadata": {
    "scrolled": false
   },
   "outputs": [
    {
     "name": "stdout",
     "output_type": "stream",
     "text": [
      "[nltk_data] Downloading package stopwords to /home/gui/nltk_data...\n",
      "[nltk_data]   Package stopwords is already up-to-date!\n",
      "[nltk_data] Downloading package sentiwordnet to /home/gui/nltk_data...\n",
      "[nltk_data]   Package sentiwordnet is already up-to-date!\n"
     ]
    }
   ],
   "source": [
    "# Python 3.6\n",
    "\n",
    "import os\n",
    "import glob\n",
    "\n",
    "\"\"\"\n",
    "import numpy as np\n",
    "import nltk\n",
    "from nltk.tokenize import word_tokenize\n",
    "from nltk.stem import PorterStemmer\n",
    "from nltk.corpus import stopwords\n",
    "import sklearn\n",
    "from sklearn.pipeline import Pipeline\n",
    "from sklearn.base import BaseEstimator, TransformerMixin\n",
    "from sklearn.feature_extraction.text import CountVectorizer\n",
    "from sklearn.linear_model import LogisticRegression\n",
    "from sklearn.model_selection import GridSearchCV\n",
    "from sklearn.model_selection import cross_val_score, train_test_split\n",
    "from sklearn.decomposition import TruncatedSVD\n",
    "import xgboost as xgb\n",
    "\"\"\"\n",
    "\n",
    "from src.pipeline_steps.nltk_word_tokenize import NLTKTokenizer\n",
    "from src.pipeline_steps.to_lower_case import ToLowerCase\n",
    "from src.pipeline_steps.remove_stop_words import RemoveStopWords\n",
    "from src.pipeline_steps.keep_open_classes_only import KeepOpenClassesOnly\n",
    "from src.pipeline_steps.sentiwordnet import SentiWordNetPosNegAttributes\n",
    "from src.pipeline_steps.porter_stemmer import PorterStemmerStep\n",
    "from src.pipeline_steps.data_shape_printer import ShapePrinter\n",
    "from src.data_loading.task_1 import load_all_data_task_1\n",
    "from src.text_classifier_pipelines.stop_words_open_class_stemmer.pipeline_factory import find_and_train_best_pipelines\n"
   ]
  },
  {
   "cell_type": "code",
   "execution_count": 2,
   "metadata": {},
   "outputs": [
    {
     "name": "stdout",
     "output_type": "stream",
     "text": [
      "1600 1600 400 400\n"
     ]
    }
   ],
   "source": [
    "neg_Bk_files = glob.glob(os.path.join(\".\", \"data\", \"task1\", \"Book\", \"neg_Bk\", \"*.text\"))\n",
    "pos_Bk_files = glob.glob(os.path.join(\".\", \"data\", \"task1\", \"Book\", \"pos_Bk\", \"*.text\"))\n",
    "\n",
    "X_train, y_train, X_test, y_test = load_all_data_task_1(neg_Bk_files, pos_Bk_files)\n",
    "\n",
    "print(len(X_train), len(y_train), len(X_test), len(y_test))"
   ]
  },
  {
   "cell_type": "code",
   "execution_count": 3,
   "metadata": {
    "scrolled": false
   },
   "outputs": [
    {
     "name": "stdout",
     "output_type": "stream",
     "text": [
      "Will start Cross Validation for Logistic Classifiers.\n",
      "\n",
      "Cross-Validation Grid Search for: 'Logistic Classifier with_lowercase all_attributes with_pos_neg_attribute with_stemming '...\n",
      "Best hyperparameters for 'Logistic Classifier with_lowercase all_attributes with_pos_neg_attribute with_stemming ' (3-folds cross validation accuracy score=0.745625):\n",
      "{'count_vect_that_remove_unfrequent_words_and_stopwords__lowercase': False, 'count_vect_that_remove_unfrequent_words_and_stopwords__max_df': 0.98, 'count_vect_that_remove_unfrequent_words_and_stopwords__max_features': 50000, 'count_vect_that_remove_unfrequent_words_and_stopwords__min_df': 1, 'count_vect_that_remove_unfrequent_words_and_stopwords__ngram_range': (1, 1), 'count_vect_that_remove_unfrequent_words_and_stopwords__preprocessor': None, 'count_vect_that_remove_unfrequent_words_and_stopwords__strip_accents': None, 'count_vect_that_remove_unfrequent_words_and_stopwords__tokenizer': <function identity at 0x7fa85e4e42f0>, 'logistic_regression__C': 10000.0}\n",
      "\n",
      "Cross-Validation Grid Search for: 'Logistic Classifier with_lowercase all_attributes with_pos_neg_attribute '...\n",
      "Best hyperparameters for 'Logistic Classifier with_lowercase all_attributes with_pos_neg_attribute ' (3-folds cross validation accuracy score=0.755):\n",
      "{'count_vect_that_remove_unfrequent_words_and_stopwords__lowercase': False, 'count_vect_that_remove_unfrequent_words_and_stopwords__max_df': 0.98, 'count_vect_that_remove_unfrequent_words_and_stopwords__max_features': 50000, 'count_vect_that_remove_unfrequent_words_and_stopwords__min_df': 1, 'count_vect_that_remove_unfrequent_words_and_stopwords__ngram_range': (1, 1), 'count_vect_that_remove_unfrequent_words_and_stopwords__preprocessor': None, 'count_vect_that_remove_unfrequent_words_and_stopwords__strip_accents': None, 'count_vect_that_remove_unfrequent_words_and_stopwords__tokenizer': <function identity at 0x7fa85e4e42f0>, 'logistic_regression__C': 10000.0}\n",
      "\n",
      "Cross-Validation Grid Search for: 'Logistic Classifier with_lowercase all_attributes with_stemming '...\n",
      "Best hyperparameters for 'Logistic Classifier with_lowercase all_attributes with_stemming ' (3-folds cross validation accuracy score=0.745625):\n",
      "{'count_vect_that_remove_unfrequent_words_and_stopwords__lowercase': False, 'count_vect_that_remove_unfrequent_words_and_stopwords__max_df': 0.98, 'count_vect_that_remove_unfrequent_words_and_stopwords__max_features': 50000, 'count_vect_that_remove_unfrequent_words_and_stopwords__min_df': 1, 'count_vect_that_remove_unfrequent_words_and_stopwords__ngram_range': (1, 1), 'count_vect_that_remove_unfrequent_words_and_stopwords__preprocessor': None, 'count_vect_that_remove_unfrequent_words_and_stopwords__strip_accents': None, 'count_vect_that_remove_unfrequent_words_and_stopwords__tokenizer': <function identity at 0x7fa85e4e42f0>, 'logistic_regression__C': 10000.0}\n",
      "\n",
      "Cross-Validation Grid Search for: 'Logistic Classifier with_lowercase all_attributes '...\n",
      "Best hyperparameters for 'Logistic Classifier with_lowercase all_attributes ' (3-folds cross validation accuracy score=0.755):\n",
      "{'count_vect_that_remove_unfrequent_words_and_stopwords__lowercase': False, 'count_vect_that_remove_unfrequent_words_and_stopwords__max_df': 0.98, 'count_vect_that_remove_unfrequent_words_and_stopwords__max_features': 50000, 'count_vect_that_remove_unfrequent_words_and_stopwords__min_df': 1, 'count_vect_that_remove_unfrequent_words_and_stopwords__ngram_range': (1, 1), 'count_vect_that_remove_unfrequent_words_and_stopwords__preprocessor': None, 'count_vect_that_remove_unfrequent_words_and_stopwords__strip_accents': None, 'count_vect_that_remove_unfrequent_words_and_stopwords__tokenizer': <function identity at 0x7fa85e4e42f0>, 'logistic_regression__C': 10000.0}\n",
      "\n",
      "Cross-Validation Grid Search for: 'Logistic Classifier with_lowercase remove_stop_words with_pos_neg_attribute with_stemming '...\n",
      "Best hyperparameters for 'Logistic Classifier with_lowercase remove_stop_words with_pos_neg_attribute with_stemming ' (3-folds cross validation accuracy score=0.725):\n",
      "{'count_vect_that_remove_unfrequent_words_and_stopwords__lowercase': False, 'count_vect_that_remove_unfrequent_words_and_stopwords__max_df': 0.98, 'count_vect_that_remove_unfrequent_words_and_stopwords__max_features': 50000, 'count_vect_that_remove_unfrequent_words_and_stopwords__min_df': 1, 'count_vect_that_remove_unfrequent_words_and_stopwords__ngram_range': (1, 1), 'count_vect_that_remove_unfrequent_words_and_stopwords__preprocessor': None, 'count_vect_that_remove_unfrequent_words_and_stopwords__strip_accents': None, 'count_vect_that_remove_unfrequent_words_and_stopwords__tokenizer': <function identity at 0x7fa85e4e42f0>, 'logistic_regression__C': 10000.0}\n",
      "\n",
      "Cross-Validation Grid Search for: 'Logistic Classifier with_lowercase remove_stop_words with_pos_neg_attribute '...\n",
      "Best hyperparameters for 'Logistic Classifier with_lowercase remove_stop_words with_pos_neg_attribute ' (3-folds cross validation accuracy score=0.7425):\n",
      "{'count_vect_that_remove_unfrequent_words_and_stopwords__lowercase': False, 'count_vect_that_remove_unfrequent_words_and_stopwords__max_df': 0.98, 'count_vect_that_remove_unfrequent_words_and_stopwords__max_features': 50000, 'count_vect_that_remove_unfrequent_words_and_stopwords__min_df': 1, 'count_vect_that_remove_unfrequent_words_and_stopwords__ngram_range': (1, 1), 'count_vect_that_remove_unfrequent_words_and_stopwords__preprocessor': None, 'count_vect_that_remove_unfrequent_words_and_stopwords__strip_accents': None, 'count_vect_that_remove_unfrequent_words_and_stopwords__tokenizer': <function identity at 0x7fa85e4e42f0>, 'logistic_regression__C': 10000.0}\n",
      "\n",
      "Cross-Validation Grid Search for: 'Logistic Classifier with_lowercase remove_stop_words with_stemming '...\n",
      "Best hyperparameters for 'Logistic Classifier with_lowercase remove_stop_words with_stemming ' (3-folds cross validation accuracy score=0.725):\n",
      "{'count_vect_that_remove_unfrequent_words_and_stopwords__lowercase': False, 'count_vect_that_remove_unfrequent_words_and_stopwords__max_df': 0.98, 'count_vect_that_remove_unfrequent_words_and_stopwords__max_features': 50000, 'count_vect_that_remove_unfrequent_words_and_stopwords__min_df': 1, 'count_vect_that_remove_unfrequent_words_and_stopwords__ngram_range': (1, 1), 'count_vect_that_remove_unfrequent_words_and_stopwords__preprocessor': None, 'count_vect_that_remove_unfrequent_words_and_stopwords__strip_accents': None, 'count_vect_that_remove_unfrequent_words_and_stopwords__tokenizer': <function identity at 0x7fa85e4e42f0>, 'logistic_regression__C': 10000.0}\n",
      "\n",
      "Cross-Validation Grid Search for: 'Logistic Classifier with_lowercase remove_stop_words '...\n",
      "Best hyperparameters for 'Logistic Classifier with_lowercase remove_stop_words ' (3-folds cross validation accuracy score=0.7425):\n",
      "{'count_vect_that_remove_unfrequent_words_and_stopwords__lowercase': False, 'count_vect_that_remove_unfrequent_words_and_stopwords__max_df': 0.98, 'count_vect_that_remove_unfrequent_words_and_stopwords__max_features': 50000, 'count_vect_that_remove_unfrequent_words_and_stopwords__min_df': 1, 'count_vect_that_remove_unfrequent_words_and_stopwords__ngram_range': (1, 1), 'count_vect_that_remove_unfrequent_words_and_stopwords__preprocessor': None, 'count_vect_that_remove_unfrequent_words_and_stopwords__strip_accents': None, 'count_vect_that_remove_unfrequent_words_and_stopwords__tokenizer': <function identity at 0x7fa85e4e42f0>, 'logistic_regression__C': 10000.0}\n",
      "\n",
      "Cross-Validation Grid Search for: 'Logistic Classifier with_lowercase keep_open_classes_only with_pos_neg_attribute with_stemming '...\n",
      "Best hyperparameters for 'Logistic Classifier with_lowercase keep_open_classes_only with_pos_neg_attribute with_stemming ' (3-folds cross validation accuracy score=0.744375):\n",
      "{'count_vect_that_remove_unfrequent_words_and_stopwords__lowercase': False, 'count_vect_that_remove_unfrequent_words_and_stopwords__max_df': 0.98, 'count_vect_that_remove_unfrequent_words_and_stopwords__max_features': 50000, 'count_vect_that_remove_unfrequent_words_and_stopwords__min_df': 1, 'count_vect_that_remove_unfrequent_words_and_stopwords__ngram_range': (1, 1), 'count_vect_that_remove_unfrequent_words_and_stopwords__preprocessor': None, 'count_vect_that_remove_unfrequent_words_and_stopwords__strip_accents': None, 'count_vect_that_remove_unfrequent_words_and_stopwords__tokenizer': <function identity at 0x7fa85e4e42f0>, 'logistic_regression__C': 10000.0}\n",
      "\n",
      "Cross-Validation Grid Search for: 'Logistic Classifier with_lowercase keep_open_classes_only with_pos_neg_attribute '...\n",
      "Best hyperparameters for 'Logistic Classifier with_lowercase keep_open_classes_only with_pos_neg_attribute ' (3-folds cross validation accuracy score=0.7525):\n",
      "{'count_vect_that_remove_unfrequent_words_and_stopwords__lowercase': False, 'count_vect_that_remove_unfrequent_words_and_stopwords__max_df': 0.98, 'count_vect_that_remove_unfrequent_words_and_stopwords__max_features': 50000, 'count_vect_that_remove_unfrequent_words_and_stopwords__min_df': 1, 'count_vect_that_remove_unfrequent_words_and_stopwords__ngram_range': (1, 1), 'count_vect_that_remove_unfrequent_words_and_stopwords__preprocessor': None, 'count_vect_that_remove_unfrequent_words_and_stopwords__strip_accents': None, 'count_vect_that_remove_unfrequent_words_and_stopwords__tokenizer': <function identity at 0x7fa85e4e42f0>, 'logistic_regression__C': 10000.0}\n",
      "\n",
      "Cross-Validation Grid Search for: 'Logistic Classifier with_lowercase keep_open_classes_only with_stemming '...\n",
      "Best hyperparameters for 'Logistic Classifier with_lowercase keep_open_classes_only with_stemming ' (3-folds cross validation accuracy score=0.744375):\n",
      "{'count_vect_that_remove_unfrequent_words_and_stopwords__lowercase': False, 'count_vect_that_remove_unfrequent_words_and_stopwords__max_df': 0.98, 'count_vect_that_remove_unfrequent_words_and_stopwords__max_features': 50000, 'count_vect_that_remove_unfrequent_words_and_stopwords__min_df': 1, 'count_vect_that_remove_unfrequent_words_and_stopwords__ngram_range': (1, 1), 'count_vect_that_remove_unfrequent_words_and_stopwords__preprocessor': None, 'count_vect_that_remove_unfrequent_words_and_stopwords__strip_accents': None, 'count_vect_that_remove_unfrequent_words_and_stopwords__tokenizer': <function identity at 0x7fa85e4e42f0>, 'logistic_regression__C': 10000.0}\n",
      "\n"
     ]
    },
    {
     "name": "stdout",
     "output_type": "stream",
     "text": [
      "Cross-Validation Grid Search for: 'Logistic Classifier with_lowercase keep_open_classes_only '...\n",
      "Best hyperparameters for 'Logistic Classifier with_lowercase keep_open_classes_only ' (3-folds cross validation accuracy score=0.7525):\n",
      "{'count_vect_that_remove_unfrequent_words_and_stopwords__lowercase': False, 'count_vect_that_remove_unfrequent_words_and_stopwords__max_df': 0.98, 'count_vect_that_remove_unfrequent_words_and_stopwords__max_features': 50000, 'count_vect_that_remove_unfrequent_words_and_stopwords__min_df': 1, 'count_vect_that_remove_unfrequent_words_and_stopwords__ngram_range': (1, 1), 'count_vect_that_remove_unfrequent_words_and_stopwords__preprocessor': None, 'count_vect_that_remove_unfrequent_words_and_stopwords__strip_accents': None, 'count_vect_that_remove_unfrequent_words_and_stopwords__tokenizer': <function identity at 0x7fa85e4e42f0>, 'logistic_regression__C': 10000.0}\n",
      "\n",
      "Cross-Validation Grid Search for: 'Logistic Classifier all_attributes with_pos_neg_attribute with_stemming '...\n",
      "Best hyperparameters for 'Logistic Classifier all_attributes with_pos_neg_attribute with_stemming ' (3-folds cross validation accuracy score=0.740625):\n",
      "{'count_vect_that_remove_unfrequent_words_and_stopwords__lowercase': False, 'count_vect_that_remove_unfrequent_words_and_stopwords__max_df': 0.98, 'count_vect_that_remove_unfrequent_words_and_stopwords__max_features': 50000, 'count_vect_that_remove_unfrequent_words_and_stopwords__min_df': 1, 'count_vect_that_remove_unfrequent_words_and_stopwords__ngram_range': (1, 1), 'count_vect_that_remove_unfrequent_words_and_stopwords__preprocessor': None, 'count_vect_that_remove_unfrequent_words_and_stopwords__strip_accents': None, 'count_vect_that_remove_unfrequent_words_and_stopwords__tokenizer': <function identity at 0x7fa85e4e42f0>, 'logistic_regression__C': 10000.0}\n",
      "\n",
      "Cross-Validation Grid Search for: 'Logistic Classifier all_attributes with_pos_neg_attribute '...\n",
      "Best hyperparameters for 'Logistic Classifier all_attributes with_pos_neg_attribute ' (3-folds cross validation accuracy score=0.7475):\n",
      "{'count_vect_that_remove_unfrequent_words_and_stopwords__lowercase': False, 'count_vect_that_remove_unfrequent_words_and_stopwords__max_df': 0.98, 'count_vect_that_remove_unfrequent_words_and_stopwords__max_features': 50000, 'count_vect_that_remove_unfrequent_words_and_stopwords__min_df': 1, 'count_vect_that_remove_unfrequent_words_and_stopwords__ngram_range': (1, 1), 'count_vect_that_remove_unfrequent_words_and_stopwords__preprocessor': None, 'count_vect_that_remove_unfrequent_words_and_stopwords__strip_accents': None, 'count_vect_that_remove_unfrequent_words_and_stopwords__tokenizer': <function identity at 0x7fa85e4e42f0>, 'logistic_regression__C': 10000.0}\n",
      "\n",
      "Cross-Validation Grid Search for: 'Logistic Classifier all_attributes with_stemming '...\n",
      "Best hyperparameters for 'Logistic Classifier all_attributes with_stemming ' (3-folds cross validation accuracy score=0.740625):\n",
      "{'count_vect_that_remove_unfrequent_words_and_stopwords__lowercase': False, 'count_vect_that_remove_unfrequent_words_and_stopwords__max_df': 0.98, 'count_vect_that_remove_unfrequent_words_and_stopwords__max_features': 50000, 'count_vect_that_remove_unfrequent_words_and_stopwords__min_df': 1, 'count_vect_that_remove_unfrequent_words_and_stopwords__ngram_range': (1, 1), 'count_vect_that_remove_unfrequent_words_and_stopwords__preprocessor': None, 'count_vect_that_remove_unfrequent_words_and_stopwords__strip_accents': None, 'count_vect_that_remove_unfrequent_words_and_stopwords__tokenizer': <function identity at 0x7fa85e4e42f0>, 'logistic_regression__C': 10000.0}\n",
      "\n",
      "Cross-Validation Grid Search for: 'Logistic Classifier all_attributes '...\n",
      "Best hyperparameters for 'Logistic Classifier all_attributes ' (3-folds cross validation accuracy score=0.7475):\n",
      "{'count_vect_that_remove_unfrequent_words_and_stopwords__lowercase': False, 'count_vect_that_remove_unfrequent_words_and_stopwords__max_df': 0.98, 'count_vect_that_remove_unfrequent_words_and_stopwords__max_features': 50000, 'count_vect_that_remove_unfrequent_words_and_stopwords__min_df': 1, 'count_vect_that_remove_unfrequent_words_and_stopwords__ngram_range': (1, 1), 'count_vect_that_remove_unfrequent_words_and_stopwords__preprocessor': None, 'count_vect_that_remove_unfrequent_words_and_stopwords__strip_accents': None, 'count_vect_that_remove_unfrequent_words_and_stopwords__tokenizer': <function identity at 0x7fa85e4e42f0>, 'logistic_regression__C': 10000.0}\n",
      "\n",
      "Cross-Validation Grid Search for: 'Logistic Classifier remove_stop_words with_pos_neg_attribute with_stemming '...\n",
      "Best hyperparameters for 'Logistic Classifier remove_stop_words with_pos_neg_attribute with_stemming ' (3-folds cross validation accuracy score=0.7275):\n",
      "{'count_vect_that_remove_unfrequent_words_and_stopwords__lowercase': False, 'count_vect_that_remove_unfrequent_words_and_stopwords__max_df': 0.98, 'count_vect_that_remove_unfrequent_words_and_stopwords__max_features': 50000, 'count_vect_that_remove_unfrequent_words_and_stopwords__min_df': 1, 'count_vect_that_remove_unfrequent_words_and_stopwords__ngram_range': (1, 1), 'count_vect_that_remove_unfrequent_words_and_stopwords__preprocessor': None, 'count_vect_that_remove_unfrequent_words_and_stopwords__strip_accents': None, 'count_vect_that_remove_unfrequent_words_and_stopwords__tokenizer': <function identity at 0x7fa85e4e42f0>, 'logistic_regression__C': 10000.0}\n",
      "\n",
      "Cross-Validation Grid Search for: 'Logistic Classifier remove_stop_words with_pos_neg_attribute '...\n",
      "Best hyperparameters for 'Logistic Classifier remove_stop_words with_pos_neg_attribute ' (3-folds cross validation accuracy score=0.7375):\n",
      "{'count_vect_that_remove_unfrequent_words_and_stopwords__lowercase': False, 'count_vect_that_remove_unfrequent_words_and_stopwords__max_df': 0.98, 'count_vect_that_remove_unfrequent_words_and_stopwords__max_features': 50000, 'count_vect_that_remove_unfrequent_words_and_stopwords__min_df': 1, 'count_vect_that_remove_unfrequent_words_and_stopwords__ngram_range': (1, 1), 'count_vect_that_remove_unfrequent_words_and_stopwords__preprocessor': None, 'count_vect_that_remove_unfrequent_words_and_stopwords__strip_accents': None, 'count_vect_that_remove_unfrequent_words_and_stopwords__tokenizer': <function identity at 0x7fa85e4e42f0>, 'logistic_regression__C': 10000.0}\n",
      "\n",
      "Cross-Validation Grid Search for: 'Logistic Classifier remove_stop_words with_stemming '...\n",
      "Best hyperparameters for 'Logistic Classifier remove_stop_words with_stemming ' (3-folds cross validation accuracy score=0.7275):\n",
      "{'count_vect_that_remove_unfrequent_words_and_stopwords__lowercase': False, 'count_vect_that_remove_unfrequent_words_and_stopwords__max_df': 0.98, 'count_vect_that_remove_unfrequent_words_and_stopwords__max_features': 50000, 'count_vect_that_remove_unfrequent_words_and_stopwords__min_df': 1, 'count_vect_that_remove_unfrequent_words_and_stopwords__ngram_range': (1, 1), 'count_vect_that_remove_unfrequent_words_and_stopwords__preprocessor': None, 'count_vect_that_remove_unfrequent_words_and_stopwords__strip_accents': None, 'count_vect_that_remove_unfrequent_words_and_stopwords__tokenizer': <function identity at 0x7fa85e4e42f0>, 'logistic_regression__C': 10000.0}\n",
      "\n",
      "Cross-Validation Grid Search for: 'Logistic Classifier remove_stop_words '...\n",
      "Best hyperparameters for 'Logistic Classifier remove_stop_words ' (3-folds cross validation accuracy score=0.7375):\n",
      "{'count_vect_that_remove_unfrequent_words_and_stopwords__lowercase': False, 'count_vect_that_remove_unfrequent_words_and_stopwords__max_df': 0.98, 'count_vect_that_remove_unfrequent_words_and_stopwords__max_features': 50000, 'count_vect_that_remove_unfrequent_words_and_stopwords__min_df': 1, 'count_vect_that_remove_unfrequent_words_and_stopwords__ngram_range': (1, 1), 'count_vect_that_remove_unfrequent_words_and_stopwords__preprocessor': None, 'count_vect_that_remove_unfrequent_words_and_stopwords__strip_accents': None, 'count_vect_that_remove_unfrequent_words_and_stopwords__tokenizer': <function identity at 0x7fa85e4e42f0>, 'logistic_regression__C': 10000.0}\n",
      "\n",
      "Cross-Validation Grid Search for: 'Logistic Classifier keep_open_classes_only with_pos_neg_attribute with_stemming '...\n",
      "Best hyperparameters for 'Logistic Classifier keep_open_classes_only with_pos_neg_attribute with_stemming ' (3-folds cross validation accuracy score=0.745):\n",
      "{'count_vect_that_remove_unfrequent_words_and_stopwords__lowercase': False, 'count_vect_that_remove_unfrequent_words_and_stopwords__max_df': 0.98, 'count_vect_that_remove_unfrequent_words_and_stopwords__max_features': 50000, 'count_vect_that_remove_unfrequent_words_and_stopwords__min_df': 1, 'count_vect_that_remove_unfrequent_words_and_stopwords__ngram_range': (1, 1), 'count_vect_that_remove_unfrequent_words_and_stopwords__preprocessor': None, 'count_vect_that_remove_unfrequent_words_and_stopwords__strip_accents': None, 'count_vect_that_remove_unfrequent_words_and_stopwords__tokenizer': <function identity at 0x7fa85e4e42f0>, 'logistic_regression__C': 10000.0}\n",
      "\n",
      "Cross-Validation Grid Search for: 'Logistic Classifier keep_open_classes_only with_pos_neg_attribute '...\n",
      "Best hyperparameters for 'Logistic Classifier keep_open_classes_only with_pos_neg_attribute ' (3-folds cross validation accuracy score=0.755):\n",
      "{'count_vect_that_remove_unfrequent_words_and_stopwords__lowercase': False, 'count_vect_that_remove_unfrequent_words_and_stopwords__max_df': 0.98, 'count_vect_that_remove_unfrequent_words_and_stopwords__max_features': 50000, 'count_vect_that_remove_unfrequent_words_and_stopwords__min_df': 1, 'count_vect_that_remove_unfrequent_words_and_stopwords__ngram_range': (1, 1), 'count_vect_that_remove_unfrequent_words_and_stopwords__preprocessor': None, 'count_vect_that_remove_unfrequent_words_and_stopwords__strip_accents': None, 'count_vect_that_remove_unfrequent_words_and_stopwords__tokenizer': <function identity at 0x7fa85e4e42f0>, 'logistic_regression__C': 10000.0}\n",
      "\n"
     ]
    },
    {
     "name": "stdout",
     "output_type": "stream",
     "text": [
      "Cross-Validation Grid Search for: 'Logistic Classifier keep_open_classes_only with_stemming '...\n",
      "Best hyperparameters for 'Logistic Classifier keep_open_classes_only with_stemming ' (3-folds cross validation accuracy score=0.745):\n",
      "{'count_vect_that_remove_unfrequent_words_and_stopwords__lowercase': False, 'count_vect_that_remove_unfrequent_words_and_stopwords__max_df': 0.98, 'count_vect_that_remove_unfrequent_words_and_stopwords__max_features': 50000, 'count_vect_that_remove_unfrequent_words_and_stopwords__min_df': 1, 'count_vect_that_remove_unfrequent_words_and_stopwords__ngram_range': (1, 1), 'count_vect_that_remove_unfrequent_words_and_stopwords__preprocessor': None, 'count_vect_that_remove_unfrequent_words_and_stopwords__strip_accents': None, 'count_vect_that_remove_unfrequent_words_and_stopwords__tokenizer': <function identity at 0x7fa85e4e42f0>, 'logistic_regression__C': 10000.0}\n",
      "\n",
      "Cross-Validation Grid Search for: 'Logistic Classifier keep_open_classes_only '...\n",
      "Best hyperparameters for 'Logistic Classifier keep_open_classes_only ' (3-folds cross validation accuracy score=0.755):\n",
      "{'count_vect_that_remove_unfrequent_words_and_stopwords__lowercase': False, 'count_vect_that_remove_unfrequent_words_and_stopwords__max_df': 0.98, 'count_vect_that_remove_unfrequent_words_and_stopwords__max_features': 50000, 'count_vect_that_remove_unfrequent_words_and_stopwords__min_df': 1, 'count_vect_that_remove_unfrequent_words_and_stopwords__ngram_range': (1, 1), 'count_vect_that_remove_unfrequent_words_and_stopwords__preprocessor': None, 'count_vect_that_remove_unfrequent_words_and_stopwords__strip_accents': None, 'count_vect_that_remove_unfrequent_words_and_stopwords__tokenizer': <function identity at 0x7fa85e4e42f0>, 'logistic_regression__C': 10000.0}\n",
      "\n",
      "Cross-Validation Grid Search for: 'Multinomial Naive Bayes Classifier with_lowercase all_attributes with_pos_neg_attribute with_stemming '...\n",
      "Best hyperparameters for 'Multinomial Naive Bayes Classifier with_lowercase all_attributes with_pos_neg_attribute with_stemming ' (3-folds cross validation accuracy score=0.740625):\n",
      "{'count_vect_that_remove_unfrequent_words_and_stopwords__lowercase': False, 'count_vect_that_remove_unfrequent_words_and_stopwords__max_df': 0.98, 'count_vect_that_remove_unfrequent_words_and_stopwords__max_features': 50000, 'count_vect_that_remove_unfrequent_words_and_stopwords__min_df': 1, 'count_vect_that_remove_unfrequent_words_and_stopwords__ngram_range': (1, 1), 'count_vect_that_remove_unfrequent_words_and_stopwords__preprocessor': None, 'count_vect_that_remove_unfrequent_words_and_stopwords__strip_accents': None, 'count_vect_that_remove_unfrequent_words_and_stopwords__tokenizer': <function identity at 0x7fa85e4e42f0>, 'naive_bayes_multi__alpha': 0.1}\n",
      "\n",
      "Cross-Validation Grid Search for: 'Multinomial Naive Bayes Classifier with_lowercase all_attributes with_pos_neg_attribute '...\n",
      "Best hyperparameters for 'Multinomial Naive Bayes Classifier with_lowercase all_attributes with_pos_neg_attribute ' (3-folds cross validation accuracy score=0.748125):\n",
      "{'count_vect_that_remove_unfrequent_words_and_stopwords__lowercase': False, 'count_vect_that_remove_unfrequent_words_and_stopwords__max_df': 0.98, 'count_vect_that_remove_unfrequent_words_and_stopwords__max_features': 50000, 'count_vect_that_remove_unfrequent_words_and_stopwords__min_df': 1, 'count_vect_that_remove_unfrequent_words_and_stopwords__ngram_range': (1, 1), 'count_vect_that_remove_unfrequent_words_and_stopwords__preprocessor': None, 'count_vect_that_remove_unfrequent_words_and_stopwords__strip_accents': None, 'count_vect_that_remove_unfrequent_words_and_stopwords__tokenizer': <function identity at 0x7fa85e4e42f0>, 'naive_bayes_multi__alpha': 0.1}\n",
      "\n",
      "Cross-Validation Grid Search for: 'Multinomial Naive Bayes Classifier with_lowercase all_attributes with_stemming '...\n",
      "Best hyperparameters for 'Multinomial Naive Bayes Classifier with_lowercase all_attributes with_stemming ' (3-folds cross validation accuracy score=0.740625):\n",
      "{'count_vect_that_remove_unfrequent_words_and_stopwords__lowercase': False, 'count_vect_that_remove_unfrequent_words_and_stopwords__max_df': 0.98, 'count_vect_that_remove_unfrequent_words_and_stopwords__max_features': 50000, 'count_vect_that_remove_unfrequent_words_and_stopwords__min_df': 1, 'count_vect_that_remove_unfrequent_words_and_stopwords__ngram_range': (1, 1), 'count_vect_that_remove_unfrequent_words_and_stopwords__preprocessor': None, 'count_vect_that_remove_unfrequent_words_and_stopwords__strip_accents': None, 'count_vect_that_remove_unfrequent_words_and_stopwords__tokenizer': <function identity at 0x7fa85e4e42f0>, 'naive_bayes_multi__alpha': 0.1}\n",
      "\n",
      "Cross-Validation Grid Search for: 'Multinomial Naive Bayes Classifier with_lowercase all_attributes '...\n",
      "Best hyperparameters for 'Multinomial Naive Bayes Classifier with_lowercase all_attributes ' (3-folds cross validation accuracy score=0.748125):\n",
      "{'count_vect_that_remove_unfrequent_words_and_stopwords__lowercase': False, 'count_vect_that_remove_unfrequent_words_and_stopwords__max_df': 0.98, 'count_vect_that_remove_unfrequent_words_and_stopwords__max_features': 50000, 'count_vect_that_remove_unfrequent_words_and_stopwords__min_df': 1, 'count_vect_that_remove_unfrequent_words_and_stopwords__ngram_range': (1, 1), 'count_vect_that_remove_unfrequent_words_and_stopwords__preprocessor': None, 'count_vect_that_remove_unfrequent_words_and_stopwords__strip_accents': None, 'count_vect_that_remove_unfrequent_words_and_stopwords__tokenizer': <function identity at 0x7fa85e4e42f0>, 'naive_bayes_multi__alpha': 0.1}\n",
      "\n",
      "Cross-Validation Grid Search for: 'Multinomial Naive Bayes Classifier with_lowercase remove_stop_words with_pos_neg_attribute with_stemming '...\n",
      "Best hyperparameters for 'Multinomial Naive Bayes Classifier with_lowercase remove_stop_words with_pos_neg_attribute with_stemming ' (3-folds cross validation accuracy score=0.72625):\n",
      "{'count_vect_that_remove_unfrequent_words_and_stopwords__lowercase': False, 'count_vect_that_remove_unfrequent_words_and_stopwords__max_df': 0.98, 'count_vect_that_remove_unfrequent_words_and_stopwords__max_features': 50000, 'count_vect_that_remove_unfrequent_words_and_stopwords__min_df': 1, 'count_vect_that_remove_unfrequent_words_and_stopwords__ngram_range': (1, 1), 'count_vect_that_remove_unfrequent_words_and_stopwords__preprocessor': None, 'count_vect_that_remove_unfrequent_words_and_stopwords__strip_accents': None, 'count_vect_that_remove_unfrequent_words_and_stopwords__tokenizer': <function identity at 0x7fa85e4e42f0>, 'naive_bayes_multi__alpha': 0.1}\n",
      "\n",
      "Cross-Validation Grid Search for: 'Multinomial Naive Bayes Classifier with_lowercase remove_stop_words with_pos_neg_attribute '...\n",
      "Best hyperparameters for 'Multinomial Naive Bayes Classifier with_lowercase remove_stop_words with_pos_neg_attribute ' (3-folds cross validation accuracy score=0.736875):\n",
      "{'count_vect_that_remove_unfrequent_words_and_stopwords__lowercase': False, 'count_vect_that_remove_unfrequent_words_and_stopwords__max_df': 0.98, 'count_vect_that_remove_unfrequent_words_and_stopwords__max_features': 50000, 'count_vect_that_remove_unfrequent_words_and_stopwords__min_df': 1, 'count_vect_that_remove_unfrequent_words_and_stopwords__ngram_range': (1, 1), 'count_vect_that_remove_unfrequent_words_and_stopwords__preprocessor': None, 'count_vect_that_remove_unfrequent_words_and_stopwords__strip_accents': None, 'count_vect_that_remove_unfrequent_words_and_stopwords__tokenizer': <function identity at 0x7fa85e4e42f0>, 'naive_bayes_multi__alpha': 0.1}\n",
      "\n",
      "Cross-Validation Grid Search for: 'Multinomial Naive Bayes Classifier with_lowercase remove_stop_words with_stemming '...\n",
      "Best hyperparameters for 'Multinomial Naive Bayes Classifier with_lowercase remove_stop_words with_stemming ' (3-folds cross validation accuracy score=0.72625):\n",
      "{'count_vect_that_remove_unfrequent_words_and_stopwords__lowercase': False, 'count_vect_that_remove_unfrequent_words_and_stopwords__max_df': 0.98, 'count_vect_that_remove_unfrequent_words_and_stopwords__max_features': 50000, 'count_vect_that_remove_unfrequent_words_and_stopwords__min_df': 1, 'count_vect_that_remove_unfrequent_words_and_stopwords__ngram_range': (1, 1), 'count_vect_that_remove_unfrequent_words_and_stopwords__preprocessor': None, 'count_vect_that_remove_unfrequent_words_and_stopwords__strip_accents': None, 'count_vect_that_remove_unfrequent_words_and_stopwords__tokenizer': <function identity at 0x7fa85e4e42f0>, 'naive_bayes_multi__alpha': 0.1}\n",
      "\n",
      "Cross-Validation Grid Search for: 'Multinomial Naive Bayes Classifier with_lowercase remove_stop_words '...\n",
      "Best hyperparameters for 'Multinomial Naive Bayes Classifier with_lowercase remove_stop_words ' (3-folds cross validation accuracy score=0.736875):\n",
      "{'count_vect_that_remove_unfrequent_words_and_stopwords__lowercase': False, 'count_vect_that_remove_unfrequent_words_and_stopwords__max_df': 0.98, 'count_vect_that_remove_unfrequent_words_and_stopwords__max_features': 50000, 'count_vect_that_remove_unfrequent_words_and_stopwords__min_df': 1, 'count_vect_that_remove_unfrequent_words_and_stopwords__ngram_range': (1, 1), 'count_vect_that_remove_unfrequent_words_and_stopwords__preprocessor': None, 'count_vect_that_remove_unfrequent_words_and_stopwords__strip_accents': None, 'count_vect_that_remove_unfrequent_words_and_stopwords__tokenizer': <function identity at 0x7fa85e4e42f0>, 'naive_bayes_multi__alpha': 0.1}\n",
      "\n",
      "Cross-Validation Grid Search for: 'Multinomial Naive Bayes Classifier with_lowercase keep_open_classes_only with_pos_neg_attribute with_stemming '...\n"
     ]
    },
    {
     "name": "stdout",
     "output_type": "stream",
     "text": [
      "Best hyperparameters for 'Multinomial Naive Bayes Classifier with_lowercase keep_open_classes_only with_pos_neg_attribute with_stemming ' (3-folds cross validation accuracy score=0.725625):\n",
      "{'count_vect_that_remove_unfrequent_words_and_stopwords__lowercase': False, 'count_vect_that_remove_unfrequent_words_and_stopwords__max_df': 0.98, 'count_vect_that_remove_unfrequent_words_and_stopwords__max_features': 50000, 'count_vect_that_remove_unfrequent_words_and_stopwords__min_df': 1, 'count_vect_that_remove_unfrequent_words_and_stopwords__ngram_range': (1, 1), 'count_vect_that_remove_unfrequent_words_and_stopwords__preprocessor': None, 'count_vect_that_remove_unfrequent_words_and_stopwords__strip_accents': None, 'count_vect_that_remove_unfrequent_words_and_stopwords__tokenizer': <function identity at 0x7fa85e4e42f0>, 'naive_bayes_multi__alpha': 0.1}\n",
      "\n",
      "Cross-Validation Grid Search for: 'Multinomial Naive Bayes Classifier with_lowercase keep_open_classes_only with_pos_neg_attribute '...\n",
      "Best hyperparameters for 'Multinomial Naive Bayes Classifier with_lowercase keep_open_classes_only with_pos_neg_attribute ' (3-folds cross validation accuracy score=0.7375):\n",
      "{'count_vect_that_remove_unfrequent_words_and_stopwords__lowercase': False, 'count_vect_that_remove_unfrequent_words_and_stopwords__max_df': 0.98, 'count_vect_that_remove_unfrequent_words_and_stopwords__max_features': 50000, 'count_vect_that_remove_unfrequent_words_and_stopwords__min_df': 1, 'count_vect_that_remove_unfrequent_words_and_stopwords__ngram_range': (1, 1), 'count_vect_that_remove_unfrequent_words_and_stopwords__preprocessor': None, 'count_vect_that_remove_unfrequent_words_and_stopwords__strip_accents': None, 'count_vect_that_remove_unfrequent_words_and_stopwords__tokenizer': <function identity at 0x7fa85e4e42f0>, 'naive_bayes_multi__alpha': 0.1}\n",
      "\n",
      "Cross-Validation Grid Search for: 'Multinomial Naive Bayes Classifier with_lowercase keep_open_classes_only with_stemming '...\n",
      "Best hyperparameters for 'Multinomial Naive Bayes Classifier with_lowercase keep_open_classes_only with_stemming ' (3-folds cross validation accuracy score=0.725625):\n",
      "{'count_vect_that_remove_unfrequent_words_and_stopwords__lowercase': False, 'count_vect_that_remove_unfrequent_words_and_stopwords__max_df': 0.98, 'count_vect_that_remove_unfrequent_words_and_stopwords__max_features': 50000, 'count_vect_that_remove_unfrequent_words_and_stopwords__min_df': 1, 'count_vect_that_remove_unfrequent_words_and_stopwords__ngram_range': (1, 1), 'count_vect_that_remove_unfrequent_words_and_stopwords__preprocessor': None, 'count_vect_that_remove_unfrequent_words_and_stopwords__strip_accents': None, 'count_vect_that_remove_unfrequent_words_and_stopwords__tokenizer': <function identity at 0x7fa85e4e42f0>, 'naive_bayes_multi__alpha': 0.1}\n",
      "\n",
      "Cross-Validation Grid Search for: 'Multinomial Naive Bayes Classifier with_lowercase keep_open_classes_only '...\n",
      "Best hyperparameters for 'Multinomial Naive Bayes Classifier with_lowercase keep_open_classes_only ' (3-folds cross validation accuracy score=0.7375):\n",
      "{'count_vect_that_remove_unfrequent_words_and_stopwords__lowercase': False, 'count_vect_that_remove_unfrequent_words_and_stopwords__max_df': 0.98, 'count_vect_that_remove_unfrequent_words_and_stopwords__max_features': 50000, 'count_vect_that_remove_unfrequent_words_and_stopwords__min_df': 1, 'count_vect_that_remove_unfrequent_words_and_stopwords__ngram_range': (1, 1), 'count_vect_that_remove_unfrequent_words_and_stopwords__preprocessor': None, 'count_vect_that_remove_unfrequent_words_and_stopwords__strip_accents': None, 'count_vect_that_remove_unfrequent_words_and_stopwords__tokenizer': <function identity at 0x7fa85e4e42f0>, 'naive_bayes_multi__alpha': 0.1}\n",
      "\n",
      "Cross-Validation Grid Search for: 'Multinomial Naive Bayes Classifier all_attributes with_pos_neg_attribute with_stemming '...\n",
      "Best hyperparameters for 'Multinomial Naive Bayes Classifier all_attributes with_pos_neg_attribute with_stemming ' (3-folds cross validation accuracy score=0.741875):\n",
      "{'count_vect_that_remove_unfrequent_words_and_stopwords__lowercase': False, 'count_vect_that_remove_unfrequent_words_and_stopwords__max_df': 0.98, 'count_vect_that_remove_unfrequent_words_and_stopwords__max_features': 50000, 'count_vect_that_remove_unfrequent_words_and_stopwords__min_df': 1, 'count_vect_that_remove_unfrequent_words_and_stopwords__ngram_range': (1, 1), 'count_vect_that_remove_unfrequent_words_and_stopwords__preprocessor': None, 'count_vect_that_remove_unfrequent_words_and_stopwords__strip_accents': None, 'count_vect_that_remove_unfrequent_words_and_stopwords__tokenizer': <function identity at 0x7fa85e4e42f0>, 'naive_bayes_multi__alpha': 0.1}\n",
      "\n",
      "Cross-Validation Grid Search for: 'Multinomial Naive Bayes Classifier all_attributes with_pos_neg_attribute '...\n",
      "Best hyperparameters for 'Multinomial Naive Bayes Classifier all_attributes with_pos_neg_attribute ' (3-folds cross validation accuracy score=0.741875):\n",
      "{'count_vect_that_remove_unfrequent_words_and_stopwords__lowercase': False, 'count_vect_that_remove_unfrequent_words_and_stopwords__max_df': 0.98, 'count_vect_that_remove_unfrequent_words_and_stopwords__max_features': 50000, 'count_vect_that_remove_unfrequent_words_and_stopwords__min_df': 1, 'count_vect_that_remove_unfrequent_words_and_stopwords__ngram_range': (1, 1), 'count_vect_that_remove_unfrequent_words_and_stopwords__preprocessor': None, 'count_vect_that_remove_unfrequent_words_and_stopwords__strip_accents': None, 'count_vect_that_remove_unfrequent_words_and_stopwords__tokenizer': <function identity at 0x7fa85e4e42f0>, 'naive_bayes_multi__alpha': 0.1}\n",
      "\n",
      "Cross-Validation Grid Search for: 'Multinomial Naive Bayes Classifier all_attributes with_stemming '...\n",
      "Best hyperparameters for 'Multinomial Naive Bayes Classifier all_attributes with_stemming ' (3-folds cross validation accuracy score=0.741875):\n",
      "{'count_vect_that_remove_unfrequent_words_and_stopwords__lowercase': False, 'count_vect_that_remove_unfrequent_words_and_stopwords__max_df': 0.98, 'count_vect_that_remove_unfrequent_words_and_stopwords__max_features': 50000, 'count_vect_that_remove_unfrequent_words_and_stopwords__min_df': 1, 'count_vect_that_remove_unfrequent_words_and_stopwords__ngram_range': (1, 1), 'count_vect_that_remove_unfrequent_words_and_stopwords__preprocessor': None, 'count_vect_that_remove_unfrequent_words_and_stopwords__strip_accents': None, 'count_vect_that_remove_unfrequent_words_and_stopwords__tokenizer': <function identity at 0x7fa85e4e42f0>, 'naive_bayes_multi__alpha': 0.1}\n",
      "\n",
      "Cross-Validation Grid Search for: 'Multinomial Naive Bayes Classifier all_attributes '...\n",
      "Best hyperparameters for 'Multinomial Naive Bayes Classifier all_attributes ' (3-folds cross validation accuracy score=0.741875):\n",
      "{'count_vect_that_remove_unfrequent_words_and_stopwords__lowercase': False, 'count_vect_that_remove_unfrequent_words_and_stopwords__max_df': 0.98, 'count_vect_that_remove_unfrequent_words_and_stopwords__max_features': 50000, 'count_vect_that_remove_unfrequent_words_and_stopwords__min_df': 1, 'count_vect_that_remove_unfrequent_words_and_stopwords__ngram_range': (1, 1), 'count_vect_that_remove_unfrequent_words_and_stopwords__preprocessor': None, 'count_vect_that_remove_unfrequent_words_and_stopwords__strip_accents': None, 'count_vect_that_remove_unfrequent_words_and_stopwords__tokenizer': <function identity at 0x7fa85e4e42f0>, 'naive_bayes_multi__alpha': 0.1}\n",
      "\n",
      "Cross-Validation Grid Search for: 'Multinomial Naive Bayes Classifier remove_stop_words with_pos_neg_attribute with_stemming '...\n",
      "Best hyperparameters for 'Multinomial Naive Bayes Classifier remove_stop_words with_pos_neg_attribute with_stemming ' (3-folds cross validation accuracy score=0.721875):\n",
      "{'count_vect_that_remove_unfrequent_words_and_stopwords__lowercase': False, 'count_vect_that_remove_unfrequent_words_and_stopwords__max_df': 0.98, 'count_vect_that_remove_unfrequent_words_and_stopwords__max_features': 50000, 'count_vect_that_remove_unfrequent_words_and_stopwords__min_df': 1, 'count_vect_that_remove_unfrequent_words_and_stopwords__ngram_range': (1, 1), 'count_vect_that_remove_unfrequent_words_and_stopwords__preprocessor': None, 'count_vect_that_remove_unfrequent_words_and_stopwords__strip_accents': None, 'count_vect_that_remove_unfrequent_words_and_stopwords__tokenizer': <function identity at 0x7fa85e4e42f0>, 'naive_bayes_multi__alpha': 0.1}\n",
      "\n",
      "Cross-Validation Grid Search for: 'Multinomial Naive Bayes Classifier remove_stop_words with_pos_neg_attribute '...\n",
      "Best hyperparameters for 'Multinomial Naive Bayes Classifier remove_stop_words with_pos_neg_attribute ' (3-folds cross validation accuracy score=0.735):\n",
      "{'count_vect_that_remove_unfrequent_words_and_stopwords__lowercase': False, 'count_vect_that_remove_unfrequent_words_and_stopwords__max_df': 0.98, 'count_vect_that_remove_unfrequent_words_and_stopwords__max_features': 50000, 'count_vect_that_remove_unfrequent_words_and_stopwords__min_df': 1, 'count_vect_that_remove_unfrequent_words_and_stopwords__ngram_range': (1, 1), 'count_vect_that_remove_unfrequent_words_and_stopwords__preprocessor': None, 'count_vect_that_remove_unfrequent_words_and_stopwords__strip_accents': None, 'count_vect_that_remove_unfrequent_words_and_stopwords__tokenizer': <function identity at 0x7fa85e4e42f0>, 'naive_bayes_multi__alpha': 0.1}\n",
      "\n",
      "Cross-Validation Grid Search for: 'Multinomial Naive Bayes Classifier remove_stop_words with_stemming '...\n",
      "Best hyperparameters for 'Multinomial Naive Bayes Classifier remove_stop_words with_stemming ' (3-folds cross validation accuracy score=0.721875):\n",
      "{'count_vect_that_remove_unfrequent_words_and_stopwords__lowercase': False, 'count_vect_that_remove_unfrequent_words_and_stopwords__max_df': 0.98, 'count_vect_that_remove_unfrequent_words_and_stopwords__max_features': 50000, 'count_vect_that_remove_unfrequent_words_and_stopwords__min_df': 1, 'count_vect_that_remove_unfrequent_words_and_stopwords__ngram_range': (1, 1), 'count_vect_that_remove_unfrequent_words_and_stopwords__preprocessor': None, 'count_vect_that_remove_unfrequent_words_and_stopwords__strip_accents': None, 'count_vect_that_remove_unfrequent_words_and_stopwords__tokenizer': <function identity at 0x7fa85e4e42f0>, 'naive_bayes_multi__alpha': 0.1}\n",
      "\n"
     ]
    },
    {
     "name": "stdout",
     "output_type": "stream",
     "text": [
      "Cross-Validation Grid Search for: 'Multinomial Naive Bayes Classifier remove_stop_words '...\n",
      "Best hyperparameters for 'Multinomial Naive Bayes Classifier remove_stop_words ' (3-folds cross validation accuracy score=0.735):\n",
      "{'count_vect_that_remove_unfrequent_words_and_stopwords__lowercase': False, 'count_vect_that_remove_unfrequent_words_and_stopwords__max_df': 0.98, 'count_vect_that_remove_unfrequent_words_and_stopwords__max_features': 50000, 'count_vect_that_remove_unfrequent_words_and_stopwords__min_df': 1, 'count_vect_that_remove_unfrequent_words_and_stopwords__ngram_range': (1, 1), 'count_vect_that_remove_unfrequent_words_and_stopwords__preprocessor': None, 'count_vect_that_remove_unfrequent_words_and_stopwords__strip_accents': None, 'count_vect_that_remove_unfrequent_words_and_stopwords__tokenizer': <function identity at 0x7fa85e4e42f0>, 'naive_bayes_multi__alpha': 0.1}\n",
      "\n",
      "Cross-Validation Grid Search for: 'Multinomial Naive Bayes Classifier keep_open_classes_only with_pos_neg_attribute with_stemming '...\n",
      "Best hyperparameters for 'Multinomial Naive Bayes Classifier keep_open_classes_only with_pos_neg_attribute with_stemming ' (3-folds cross validation accuracy score=0.724375):\n",
      "{'count_vect_that_remove_unfrequent_words_and_stopwords__lowercase': False, 'count_vect_that_remove_unfrequent_words_and_stopwords__max_df': 0.98, 'count_vect_that_remove_unfrequent_words_and_stopwords__max_features': 50000, 'count_vect_that_remove_unfrequent_words_and_stopwords__min_df': 1, 'count_vect_that_remove_unfrequent_words_and_stopwords__ngram_range': (1, 1), 'count_vect_that_remove_unfrequent_words_and_stopwords__preprocessor': None, 'count_vect_that_remove_unfrequent_words_and_stopwords__strip_accents': None, 'count_vect_that_remove_unfrequent_words_and_stopwords__tokenizer': <function identity at 0x7fa85e4e42f0>, 'naive_bayes_multi__alpha': 0.1}\n",
      "\n",
      "Cross-Validation Grid Search for: 'Multinomial Naive Bayes Classifier keep_open_classes_only with_pos_neg_attribute '...\n",
      "Best hyperparameters for 'Multinomial Naive Bayes Classifier keep_open_classes_only with_pos_neg_attribute ' (3-folds cross validation accuracy score=0.738125):\n",
      "{'count_vect_that_remove_unfrequent_words_and_stopwords__lowercase': False, 'count_vect_that_remove_unfrequent_words_and_stopwords__max_df': 0.98, 'count_vect_that_remove_unfrequent_words_and_stopwords__max_features': 50000, 'count_vect_that_remove_unfrequent_words_and_stopwords__min_df': 1, 'count_vect_that_remove_unfrequent_words_and_stopwords__ngram_range': (1, 1), 'count_vect_that_remove_unfrequent_words_and_stopwords__preprocessor': None, 'count_vect_that_remove_unfrequent_words_and_stopwords__strip_accents': None, 'count_vect_that_remove_unfrequent_words_and_stopwords__tokenizer': <function identity at 0x7fa85e4e42f0>, 'naive_bayes_multi__alpha': 0.1}\n",
      "\n",
      "Cross-Validation Grid Search for: 'Multinomial Naive Bayes Classifier keep_open_classes_only with_stemming '...\n",
      "Best hyperparameters for 'Multinomial Naive Bayes Classifier keep_open_classes_only with_stemming ' (3-folds cross validation accuracy score=0.724375):\n",
      "{'count_vect_that_remove_unfrequent_words_and_stopwords__lowercase': False, 'count_vect_that_remove_unfrequent_words_and_stopwords__max_df': 0.98, 'count_vect_that_remove_unfrequent_words_and_stopwords__max_features': 50000, 'count_vect_that_remove_unfrequent_words_and_stopwords__min_df': 1, 'count_vect_that_remove_unfrequent_words_and_stopwords__ngram_range': (1, 1), 'count_vect_that_remove_unfrequent_words_and_stopwords__preprocessor': None, 'count_vect_that_remove_unfrequent_words_and_stopwords__strip_accents': None, 'count_vect_that_remove_unfrequent_words_and_stopwords__tokenizer': <function identity at 0x7fa85e4e42f0>, 'naive_bayes_multi__alpha': 0.1}\n",
      "\n",
      "Cross-Validation Grid Search for: 'Multinomial Naive Bayes Classifier keep_open_classes_only '...\n",
      "Best hyperparameters for 'Multinomial Naive Bayes Classifier keep_open_classes_only ' (3-folds cross validation accuracy score=0.738125):\n",
      "{'count_vect_that_remove_unfrequent_words_and_stopwords__lowercase': False, 'count_vect_that_remove_unfrequent_words_and_stopwords__max_df': 0.98, 'count_vect_that_remove_unfrequent_words_and_stopwords__max_features': 50000, 'count_vect_that_remove_unfrequent_words_and_stopwords__min_df': 1, 'count_vect_that_remove_unfrequent_words_and_stopwords__ngram_range': (1, 1), 'count_vect_that_remove_unfrequent_words_and_stopwords__preprocessor': None, 'count_vect_that_remove_unfrequent_words_and_stopwords__strip_accents': None, 'count_vect_that_remove_unfrequent_words_and_stopwords__tokenizer': <function identity at 0x7fa85e4e42f0>, 'naive_bayes_multi__alpha': 0.1}\n",
      "\n"
     ]
    }
   ],
   "source": [
    "best_trained_pipelines = find_and_train_best_pipelines(X_train, y_train)"
   ]
  },
  {
   "cell_type": "code",
   "execution_count": 7,
   "metadata": {},
   "outputs": [
    {
     "name": "stdout",
     "output_type": "stream",
     "text": [
      "The final test: classifying on test documents of full-length:\n",
      "\n",
      "Note: the test set was of 20% of full data, which was held-out of cross validation.\n",
      "\n",
      "Test set score for 'Logistic Classifier with_lowercase all_attributes with_pos_neg_attribute with_stemming ': 76.0%\n",
      "Test set score for 'Logistic Classifier with_lowercase all_attributes with_pos_neg_attribute ': 75.5%\n",
      "Test set score for 'Logistic Classifier with_lowercase all_attributes with_stemming ': 76.0%\n",
      "Test set score for 'Logistic Classifier with_lowercase all_attributes ': 75.5%\n",
      "Test set score for 'Logistic Classifier with_lowercase remove_stop_words with_pos_neg_attribute with_stemming ': 76.25%\n",
      "Test set score for 'Logistic Classifier with_lowercase remove_stop_words with_pos_neg_attribute ': 75.25%\n",
      "Test set score for 'Logistic Classifier with_lowercase remove_stop_words with_stemming ': 76.25%\n",
      "Test set score for 'Logistic Classifier with_lowercase remove_stop_words ': 75.25%\n",
      "Test set score for 'Logistic Classifier with_lowercase keep_open_classes_only with_pos_neg_attribute with_stemming ': 74.75%\n",
      "Test set score for 'Logistic Classifier with_lowercase keep_open_classes_only with_pos_neg_attribute ': 75.75%\n",
      "Test set score for 'Logistic Classifier with_lowercase keep_open_classes_only with_stemming ': 74.75%\n",
      "Test set score for 'Logistic Classifier with_lowercase keep_open_classes_only ': 75.75%\n",
      "Test set score for 'Logistic Classifier all_attributes with_pos_neg_attribute with_stemming ': 76.0%\n",
      "Test set score for 'Logistic Classifier all_attributes with_pos_neg_attribute ': 76.0%\n",
      "Test set score for 'Logistic Classifier all_attributes with_stemming ': 76.0%\n",
      "Test set score for 'Logistic Classifier all_attributes ': 76.0%\n",
      "Test set score for 'Logistic Classifier remove_stop_words with_pos_neg_attribute with_stemming ': 75.75%\n",
      "Test set score for 'Logistic Classifier remove_stop_words with_pos_neg_attribute ': 76.25%\n",
      "Test set score for 'Logistic Classifier remove_stop_words with_stemming ': 75.75%\n",
      "Test set score for 'Logistic Classifier remove_stop_words ': 76.25%\n",
      "Test set score for 'Logistic Classifier keep_open_classes_only with_pos_neg_attribute with_stemming ': 74.0%\n",
      "Test set score for 'Logistic Classifier keep_open_classes_only with_pos_neg_attribute ': 76.0%\n",
      "Test set score for 'Logistic Classifier keep_open_classes_only with_stemming ': 74.0%\n",
      "Test set score for 'Logistic Classifier keep_open_classes_only ': 76.0%\n",
      "Test set score for 'Multinomial Naive Bayes Classifier with_lowercase all_attributes with_pos_neg_attribute with_stemming ': 73.75%\n",
      "Test set score for 'Multinomial Naive Bayes Classifier with_lowercase all_attributes with_pos_neg_attribute ': 75.0%\n",
      "Test set score for 'Multinomial Naive Bayes Classifier with_lowercase all_attributes with_stemming ': 73.75%\n",
      "Test set score for 'Multinomial Naive Bayes Classifier with_lowercase all_attributes ': 75.0%\n",
      "Test set score for 'Multinomial Naive Bayes Classifier with_lowercase remove_stop_words with_pos_neg_attribute with_stemming ': 71.5%\n",
      "Test set score for 'Multinomial Naive Bayes Classifier with_lowercase remove_stop_words with_pos_neg_attribute ': 74.75%\n",
      "Test set score for 'Multinomial Naive Bayes Classifier with_lowercase remove_stop_words with_stemming ': 71.5%\n",
      "Test set score for 'Multinomial Naive Bayes Classifier with_lowercase remove_stop_words ': 74.75%\n",
      "Test set score for 'Multinomial Naive Bayes Classifier with_lowercase keep_open_classes_only with_pos_neg_attribute with_stemming ': 73.0%\n",
      "Test set score for 'Multinomial Naive Bayes Classifier with_lowercase keep_open_classes_only with_pos_neg_attribute ': 73.75%\n",
      "Test set score for 'Multinomial Naive Bayes Classifier with_lowercase keep_open_classes_only with_stemming ': 73.0%\n",
      "Test set score for 'Multinomial Naive Bayes Classifier with_lowercase keep_open_classes_only ': 73.75%\n",
      "Test set score for 'Multinomial Naive Bayes Classifier all_attributes with_pos_neg_attribute with_stemming ': 74.0%\n",
      "Test set score for 'Multinomial Naive Bayes Classifier all_attributes with_pos_neg_attribute ': 73.75%\n",
      "Test set score for 'Multinomial Naive Bayes Classifier all_attributes with_stemming ': 74.0%\n",
      "Test set score for 'Multinomial Naive Bayes Classifier all_attributes ': 73.75%\n",
      "Test set score for 'Multinomial Naive Bayes Classifier remove_stop_words with_pos_neg_attribute with_stemming ': 71.75%\n",
      "Test set score for 'Multinomial Naive Bayes Classifier remove_stop_words with_pos_neg_attribute ': 74.0%\n",
      "Test set score for 'Multinomial Naive Bayes Classifier remove_stop_words with_stemming ': 71.75%\n",
      "Test set score for 'Multinomial Naive Bayes Classifier remove_stop_words ': 74.0%\n",
      "Test set score for 'Multinomial Naive Bayes Classifier keep_open_classes_only with_pos_neg_attribute with_stemming ': 72.25%\n",
      "Test set score for 'Multinomial Naive Bayes Classifier keep_open_classes_only with_pos_neg_attribute ': 75.0%\n",
      "Test set score for 'Multinomial Naive Bayes Classifier keep_open_classes_only with_stemming ': 72.25%\n",
      "Test set score for 'Multinomial Naive Bayes Classifier keep_open_classes_only ': 75.0%\n",
      "\n",
      "Max score is by 'Logistic Classifier with_lowercase remove_stop_words with_pos_neg_attribute with_stemming ': 76.25%\n",
      "\n"
     ]
    }
   ],
   "source": [
    "print(\"The final test: classifying on test documents of full-length:\")\n",
    "print(\"\")\n",
    "print(\"Note: the test set was of 20% of full data, which was held-out of cross validation.\")\n",
    "print(\"\")\n",
    "max_score = 0\n",
    "max_score_model = \"\"\n",
    "for (model_name, model) in best_trained_pipelines.items():\n",
    "    score = model.score(X_test, y_test) * 100\n",
    "    if score > max_score: \n",
    "        max_score = score\n",
    "        max_score_model = model_name\n",
    "    print(\"Test set score for '{}': {}%\".format(model_name, score))\n",
    "print(\"\")\n",
    "print(\"Max score is by '{}': {}%\".format(max_score_model, max_score))\n",
    "print(\"\")"
   ]
  }
 ],
 "metadata": {
  "kernelspec": {
   "display_name": "Python 3",
   "language": "python",
   "name": "python3"
  },
  "language_info": {
   "codemirror_mode": {
    "name": "ipython",
    "version": 3
   },
   "file_extension": ".py",
   "mimetype": "text/x-python",
   "name": "python",
   "nbconvert_exporter": "python",
   "pygments_lexer": "ipython3",
   "version": "3.6.6"
  }
 },
 "nbformat": 4,
 "nbformat_minor": 2
}
